{
 "cells": [
  {
   "cell_type": "code",
   "execution_count": null,
   "metadata": {},
   "outputs": [],
   "source": [
    "#from statistics import mean, stdev\n",
    "from typing import Iterable,Tuple,Sequence, Dict,List\n",
    "from collections import defaultdict\n",
    "from random import sample\n",
    "from pprint import pprint\n",
    "from math import fsum,hypot,sqrt\n",
    "from functools import partial\n",
    "\n",
    "Point = Tuple[int,...]\n",
    "Centroid = Point\n",
    "\n",
    "def transpose(data):\n",
    "    'Swapping rows an dcolumns in 2-d array'\n",
    "    return list(zip(*data))\n",
    "\n",
    "def mean(data: Iterable[float]) -> float:\n",
    "    'Accurate arithmentic mean'\n",
    "    data = list(data)\n",
    "    return fsum(data) / len(data)\n",
    "\n",
    "def dist(p: Point,q: Point,fsum=fsum,sqrt=sqrt,zip=zip) -> float:\n",
    "    'Euclidean distance fn for multi-dim data'\n",
    "    return sqrt(fsum([(x - y)**2 for x,y in zip(p,q)]))\n",
    "\n",
    "def assign_data(centroids: Sequence[Centroid],data: Iterable[Point]) -> Dict[Centroid,List[Point]]:\n",
    "    d = defaultdict(list)\n",
    "    for point in data:\n",
    "        closest_centroid = min(centroids,key=partial(dist,point))  #right\n",
    "        #closest_centroid = min(centroids,key=partial(dist,point))\n",
    "        d[closest_centroid].append(point)\n",
    "        \n",
    "    return dict(d)\n",
    "\n",
    "def compute_centroids(groups: Iterable[Sequence[Point]]) -> List[Centroid]:\n",
    "    'Compute the centroid of each group'\n",
    "    #return [tuple(map(mean,zip(*group))) for group in groups]\n",
    "    return [tuple(map(mean,transpose(group))) for group in groups]\n",
    "\n",
    "def k_means(data: Iterable[Point],k: int=2,iteration:int=50) ->List[Centroid]:\n",
    "    data = list(data)\n",
    "    centroids = sample(data,k)\n",
    "    for i in range(iteration):\n",
    "        labeled = assign_data(centroids,data)\n",
    "        centroids = compute_centroids(labeled.values())\n",
    "    return centroids\n",
    "\n",
    "\n",
    "if __name__ == '__main__':\n",
    "\n",
    "    points=[\n",
    "            (10,41,23),\n",
    "            (22,30,29),\n",
    "            (11,42,5),\n",
    "            (20,32,4),\n",
    "            (12,40,12),\n",
    "            (21,36,23)\n",
    "            ]\n",
    "\n",
    "\n",
    "    centroids = k_means(points,k=3)\n",
    "    d=assign_data(centroids,points)\n",
    "    pprint(d)\n",
    "      "
   ]
  },
  {
   "cell_type": "code",
   "execution_count": null,
   "metadata": {},
   "outputs": [],
   "source": [
    "points=[(10,41,23), (22,30,29),(11,42,5),(20,32,4),(12,40,12),(21,36,23)]\n",
    "for point in points:\n",
    "    print(point,dist(point,(9,39,20)))"
   ]
  },
  {
   "cell_type": "code",
   "execution_count": null,
   "metadata": {},
   "outputs": [],
   "source": [
    "from dis import dis\n",
    "dis(dist)"
   ]
  },
  {
   "cell_type": "code",
   "execution_count": null,
   "metadata": {},
   "outputs": [],
   "source": [
    "centroids = [(9,39,20),(12,36,25)]\n",
    "point=(11,42,5)\n",
    "print([dist(point,centroid) for centroid in centroids])\n",
    "print(min([dist(point,centroid) for centroid in centroids]))\n",
    "#min(centroids,key=lambda centroid: dist(point,centroid))\n",
    "min(centroids,key=partial(dist,point))"
   ]
  },
  {
   "cell_type": "code",
   "execution_count": null,
   "metadata": {},
   "outputs": [],
   "source": [
    "pprint(assign_data(centroids,points),width=45)"
   ]
  },
  {
   "cell_type": "code",
   "execution_count": null,
   "metadata": {},
   "outputs": [],
   "source": [
    "groups=[\n",
    "    [(10, 41, 23), (11, 42, 5), (20, 32, 4),(12, 40, 12)], \n",
    "        [(22, 30, 29), (21, 36, 23)]\n",
    "      ]\n",
    "group = [(10, 41, 23), (11, 42, 5), (20, 32, 4),(12, 40, 12)]"
   ]
  },
  {
   "cell_type": "code",
   "execution_count": null,
   "metadata": {},
   "outputs": [],
   "source": [
    "list(zip(*group))\n",
    "list(map(mean,zip(*group)))\n",
    "tuple(map(mean,zip(*group)))\n",
    "[tuple(map(mean,zip(*group))) for group in groups]"
   ]
  },
  {
   "cell_type": "code",
   "execution_count": null,
   "metadata": {},
   "outputs": [],
   "source": [
    "list(map(mean,zip(*group)))"
   ]
  },
  {
   "cell_type": "code",
   "execution_count": null,
   "metadata": {},
   "outputs": [],
   "source": [
    "tuple(map(mean,zip(*group)))"
   ]
  },
  {
   "cell_type": "code",
   "execution_count": null,
   "metadata": {},
   "outputs": [],
   "source": [
    "[tuple(map(mean,zip(*group))) for group in groups]"
   ]
  },
  {
   "cell_type": "code",
   "execution_count": null,
   "metadata": {},
   "outputs": [],
   "source": [
    "k_means(points,k=2)"
   ]
  }
 ],
 "metadata": {
  "kernelspec": {
   "display_name": "Python 3",
   "language": "python",
   "name": "python3"
  },
  "language_info": {
   "codemirror_mode": {
    "name": "ipython",
    "version": 3
   },
   "file_extension": ".py",
   "mimetype": "text/x-python",
   "name": "python",
   "nbconvert_exporter": "python",
   "pygments_lexer": "ipython3",
   "version": "3.7.1"
  }
 },
 "nbformat": 4,
 "nbformat_minor": 2
}
